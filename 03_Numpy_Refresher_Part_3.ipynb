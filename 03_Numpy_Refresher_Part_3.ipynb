{
 "cells": [
  {
   "cell_type": "markdown",
   "metadata": {
    "id": "ou2mMA50HvHE"
   },
   "source": [
    "<h1 style=\"font-size:30px;\">Numpy Refresher (Part-3)</h1>\n",
    "\n",
    "<img src='https://learnopencv.com/wp-content/uploads/2022/01/c4_01_NumPy_logo.png' width=200 align='left'><br/>"
   ]
  },
  {
   "cell_type": "markdown",
   "metadata": {},
   "source": [
    "## Table of Contents\n",
    "\n",
    "* [1 Element-Wise Operations](#1-Element-Wise-Operations)\n",
    "* [2 Linear Algebra](#2-Linear-Algebra)\n",
    "* [3 Array Statistics](#3-Array-Statistics)"
   ]
  },
  {
   "cell_type": "code",
   "execution_count": 1,
   "metadata": {
    "collapsed": true,
    "id": "iei7FIbn35Sq"
   },
   "outputs": [],
   "source": [
    "import numpy as np\n",
    "\n",
    "def array_info(array):\n",
    "    print('Array:\\n{}'.format(array))\n",
    "    print('Data type:\\t{}'.format(array.dtype))\n",
    "    print('Array shape:\\t{}'.format(array.shape))\n",
    "    print('Array Dim:\\t{}\\n'.format(array.ndim))"
   ]
  },
  {
   "cell_type": "markdown",
   "metadata": {
    "id": "ib6ndOLfHvHp"
   },
   "source": [
    "## 1 Element-Wise Operations\n"
   ]
  },
  {
   "cell_type": "markdown",
   "metadata": {
    "id": "bEUU5DXSHvHp"
   },
   "source": [
    "Let's generate two random arrays to demonstrate element-wise operations. "
   ]
  },
  {
   "cell_type": "code",
   "execution_count": 2,
   "metadata": {
    "id": "Z_4_wwpkHvHq",
    "outputId": "5a6233d2-2689-48e4-c4b8-4d9ad880104f"
   },
   "outputs": [
    {
     "name": "stdout",
     "output_type": "stream",
     "text": [
      "Array:\n",
      "[[0.2149188  0.64590775 0.86148976 0.49575744]\n",
      " [0.972641   0.22979073 0.96347519 0.01196942]\n",
      " [0.12373972 0.12883367 0.59346235 0.6243384 ]\n",
      " [0.35016111 0.91817003 0.77496698 0.37324691]]\n",
      "Data type:\tfloat64\n",
      "Array shape:\t(4, 4)\n",
      "Array Dim:\t2\n",
      "\n",
      "Array:\n",
      "[[0.96154488 0.43045822 0.08928856 0.12327609]\n",
      " [0.43158741 0.38805724 0.95522785 0.97924729]\n",
      " [0.8780902  0.93306844 0.4976354  0.32937219]\n",
      " [0.27092181 0.64438281 0.02677429 0.75702875]]\n",
      "Data type:\tfloat64\n",
      "Array shape:\t(4, 4)\n",
      "Array Dim:\t2\n",
      "\n"
     ]
    }
   ],
   "source": [
    "a = np.random.random((4,4))\n",
    "b = np.random.random((4,4))\n",
    "array_info(a)\n",
    "array_info(b)"
   ]
  },
  {
   "cell_type": "markdown",
   "metadata": {
    "id": "TR3faxSTHvHq"
   },
   "source": [
    "### 1.1 Element-Wise Scalar Operations"
   ]
  },
  {
   "cell_type": "markdown",
   "metadata": {
    "id": "HCaBZ88vHvHq"
   },
   "source": [
    "### <font style=\"color:rgb(50,120,230)\">Scalar Addition</font>"
   ]
  },
  {
   "cell_type": "code",
   "execution_count": 3,
   "metadata": {
    "id": "PkG8aNxzHvHq",
    "outputId": "3c8ca936-eac8-4adb-9ffa-d1a8e6222262"
   },
   "outputs": [
    {
     "data": {
      "text/plain": [
       "array([[5.2149188 , 5.64590775, 5.86148976, 5.49575744],\n",
       "       [5.972641  , 5.22979073, 5.96347519, 5.01196942],\n",
       "       [5.12373972, 5.12883367, 5.59346235, 5.6243384 ],\n",
       "       [5.35016111, 5.91817003, 5.77496698, 5.37324691]])"
      ]
     },
     "execution_count": 3,
     "metadata": {},
     "output_type": "execute_result"
    }
   ],
   "source": [
    "a + 5 # Element wise scalar addition."
   ]
  },
  {
   "cell_type": "markdown",
   "metadata": {
    "id": "YZi1QRPhHvHr"
   },
   "source": [
    "### <font style=\"color:rgb(50,120,230)\">Scalar Subtraction</font>"
   ]
  },
  {
   "cell_type": "code",
   "execution_count": 4,
   "metadata": {
    "id": "yu61UKprHvHr",
    "outputId": "78fd8c5a-8e4e-43a1-8b02-d3affc4a7cf6"
   },
   "outputs": [
    {
     "data": {
      "text/plain": [
       "array([[-4.7850812 , -4.35409225, -4.13851024, -4.50424256],\n",
       "       [-4.027359  , -4.77020927, -4.03652481, -4.98803058],\n",
       "       [-4.87626028, -4.87116633, -4.40653765, -4.3756616 ],\n",
       "       [-4.64983889, -4.08182997, -4.22503302, -4.62675309]])"
      ]
     },
     "execution_count": 4,
     "metadata": {},
     "output_type": "execute_result"
    }
   ],
   "source": [
    "a - 5 # Element wise scalar subtraction."
   ]
  },
  {
   "cell_type": "markdown",
   "metadata": {
    "id": "nq5YTQouHvHr"
   },
   "source": [
    "### <font style=\"color:rgb(50,120,230)\">Scalar Multiplication</font>"
   ]
  },
  {
   "cell_type": "code",
   "execution_count": 5,
   "metadata": {
    "id": "B5BkSNZuHvHv",
    "outputId": "b5fba9e3-fd5a-4742-8aad-68e8eb6291ff"
   },
   "outputs": [
    {
     "data": {
      "text/plain": [
       "array([[2.14918796, 6.45907753, 8.61489756, 4.95757437],\n",
       "       [9.72641002, 2.29790731, 9.6347519 , 0.1196942 ],\n",
       "       [1.23739724, 1.28833674, 5.93462351, 6.24338404],\n",
       "       [3.50161109, 9.18170028, 7.74966978, 3.73246913]])"
      ]
     },
     "execution_count": 5,
     "metadata": {},
     "output_type": "execute_result"
    }
   ],
   "source": [
    "a * 10 # Element wise scalar multiplication."
   ]
  },
  {
   "cell_type": "markdown",
   "metadata": {
    "id": "1npInH3gHvHv"
   },
   "source": [
    "### <font style=\"color:rgb(50,120,230)\">Scalar Division</font>"
   ]
  },
  {
   "cell_type": "code",
   "execution_count": 6,
   "metadata": {
    "id": "mkoXE_-nHvHv",
    "outputId": "4086107b-d56e-40e0-9e18-a1e06441ade0"
   },
   "outputs": [
    {
     "data": {
      "text/plain": [
       "array([[0.02149188, 0.06459078, 0.08614898, 0.04957574],\n",
       "       [0.0972641 , 0.02297907, 0.09634752, 0.00119694],\n",
       "       [0.01237397, 0.01288337, 0.05934624, 0.06243384],\n",
       "       [0.03501611, 0.091817  , 0.0774967 , 0.03732469]])"
      ]
     },
     "execution_count": 6,
     "metadata": {},
     "output_type": "execute_result"
    }
   ],
   "source": [
    "a/10 # Element wise scalar division."
   ]
  },
  {
   "cell_type": "markdown",
   "metadata": {
    "id": "jHJRr1MNHvHv"
   },
   "source": [
    "### 1.2 Element-Wise Array Operations"
   ]
  },
  {
   "cell_type": "markdown",
   "metadata": {
    "id": "Bofpk58CHvHw"
   },
   "source": [
    "### <font style=\"color:rgb(50,120,230)\">Array Addition</font>"
   ]
  },
  {
   "cell_type": "code",
   "execution_count": 7,
   "metadata": {
    "id": "XKa_rsCEHvHw",
    "outputId": "1dcefbae-e42d-4a0a-84fc-656a49bab68f"
   },
   "outputs": [
    {
     "data": {
      "text/plain": [
       "array([[1.17646368, 1.07636597, 0.95077832, 0.61903352],\n",
       "       [1.40422841, 0.61784797, 1.91870304, 0.99121671],\n",
       "       [1.00182992, 1.06190212, 1.09109775, 0.9537106 ],\n",
       "       [0.62108292, 1.56255284, 0.80174127, 1.13027567]])"
      ]
     },
     "execution_count": 7,
     "metadata": {},
     "output_type": "execute_result"
    }
   ],
   "source": [
    "a + b # Element wise array/vector addition."
   ]
  },
  {
   "cell_type": "markdown",
   "metadata": {
    "id": "ESSSSF91HvHy"
   },
   "source": [
    "### <font style=\"color:rgb(50,120,230)\">Array Subtraction</font>"
   ]
  },
  {
   "cell_type": "code",
   "execution_count": 8,
   "metadata": {
    "id": "z1Nh0f-VHvHy",
    "outputId": "28383834-c467-489b-8af4-c42ca114c881"
   },
   "outputs": [
    {
     "data": {
      "text/plain": [
       "array([[-0.74662609,  0.21544953,  0.77220119,  0.37248135],\n",
       "       [ 0.54105359, -0.15826651,  0.00824734, -0.96727787],\n",
       "       [-0.75435048, -0.80423477,  0.09582695,  0.29496621],\n",
       "       [ 0.0792393 ,  0.27378722,  0.74819269, -0.38378184]])"
      ]
     },
     "execution_count": 8,
     "metadata": {},
     "output_type": "execute_result"
    }
   ],
   "source": [
    "a - b # Element wise array/vector subtraction."
   ]
  },
  {
   "cell_type": "markdown",
   "metadata": {
    "id": "fP6X8L1ZHvHy"
   },
   "source": [
    "### <font style=\"color:rgb(50,120,230)\">Array Multiplication</font>"
   ]
  },
  {
   "cell_type": "code",
   "execution_count": 9,
   "metadata": {
    "id": "9ZvWU6fjHvHy",
    "outputId": "4325f640-c66b-4d2d-83f2-a19113f08d2b"
   },
   "outputs": [
    {
     "data": {
      "text/plain": [
       "array([[0.20665407, 0.2780363 , 0.07692118, 0.06111504],\n",
       "       [0.41977961, 0.08917196, 0.92033834, 0.01172102],\n",
       "       [0.10865464, 0.12021064, 0.29532787, 0.20563971],\n",
       "       [0.09486628, 0.59165298, 0.02074919, 0.28255865]])"
      ]
     },
     "execution_count": 9,
     "metadata": {},
     "output_type": "execute_result"
    }
   ],
   "source": [
    "a * b # Element wise array/vector multiplication."
   ]
  },
  {
   "cell_type": "markdown",
   "metadata": {
    "id": "VDVd7xSiHvHz"
   },
   "source": [
    "### <font style=\"color:rgb(50,120,230)\">Array Division</font>"
   ]
  },
  {
   "cell_type": "code",
   "execution_count": 10,
   "metadata": {
    "id": "VI5scJuLHvHz",
    "outputId": "3efe5887-17be-4157-fe8d-094d07f405aa"
   },
   "outputs": [
    {
     "data": {
      "text/plain": [
       "array([[2.23514055e-01, 1.50051207e+00, 9.64837732e+00, 4.02152153e+00],\n",
       "       [2.25363618e+00, 5.92156791e-01, 1.00863389e+00, 1.22230824e-02],\n",
       "       [1.40919150e-01, 1.38075266e-01, 1.19256459e+00, 1.89554071e+00],\n",
       "       [1.29248031e+00, 1.42488287e+00, 2.89444457e+01, 4.93041924e-01]])"
      ]
     },
     "execution_count": 10,
     "metadata": {},
     "output_type": "execute_result"
    }
   ],
   "source": [
    "a / b # element wise array/vector division"
   ]
  },
  {
   "cell_type": "markdown",
   "metadata": {
    "id": "dWNN2R1mHvHz"
   },
   "source": [
    "Notice that the dimension of both arrays are equal in the above array element-wise operations. **What if the dimensions are not equal.** Let's check!"
   ]
  },
  {
   "cell_type": "code",
   "execution_count": 11,
   "metadata": {
    "id": "6lpnhqYEHvHz",
    "outputId": "94b62329-b24a-4b86-e4e0-33abc92b4e75"
   },
   "outputs": [
    {
     "name": "stdout",
     "output_type": "stream",
     "text": [
      "Array \"a\":\n",
      "Array:\n",
      "[[0.2149188  0.64590775 0.86148976 0.49575744]\n",
      " [0.972641   0.22979073 0.96347519 0.01196942]\n",
      " [0.12373972 0.12883367 0.59346235 0.6243384 ]\n",
      " [0.35016111 0.91817003 0.77496698 0.37324691]]\n",
      "Data type:\tfloat64\n",
      "Array shape:\t(4, 4)\n",
      "Array Dim:\t2\n",
      "\n",
      "Array \"c\":\n",
      "Array:\n",
      "[[0.10850851 0.55383723 0.56583753 0.3462489 ]\n",
      " [0.35362981 0.86668629 0.58165498 0.39833055]]\n",
      "Data type:\tfloat64\n",
      "Array shape:\t(2, 4)\n",
      "Array Dim:\t2\n",
      "\n"
     ]
    },
    {
     "name": "stderr",
     "output_type": "stream",
     "text": [
      "Traceback (most recent call last):\n",
      "  File \"<ipython-input-11-db3a8552b781>\", line 10, in <module>\n",
      "    a + c\n",
      "ValueError: operands could not be broadcast together with shapes (4,4) (2,4) \n"
     ]
    }
   ],
   "source": [
    "print('Array \"a\":')\n",
    "array_info(a)\n",
    "print('Array \"c\":')\n",
    "c = np.random.rand(2, 4)\n",
    "array_info(c)\n",
    "\n",
    "# Should throw ValueError.\n",
    "import traceback\n",
    "try:\n",
    "    a + c\n",
    "except Exception:\n",
    "    traceback.print_exc()"
   ]
  },
  {
   "cell_type": "markdown",
   "metadata": {
    "id": "TJJByIVLHvHz"
   },
   "source": [
    "<font color='red'>**Oh, got the ValueError!!**</font>\n",
    "\n",
    "What is this error?\n",
    "\n",
    "<font color='red'>ValueError</font>: operands could not be broadcast together with shapes `(4,4)` `(2,2)` "
   ]
  },
  {
   "cell_type": "markdown",
   "metadata": {
    "id": "-Tfs85kWHvH0"
   },
   "source": [
    "### 1.3 Broadcasting\n",
    "\n",
    "There is a concept of broadcasting in NumPy, which tries to copy rows or columns in the lower-dimensional array to make an equal dimensional array of higher-dimensional array. \n",
    "\n",
    "<hr style=\"border:none; height: 4px; background-color:#D3D3D3\" />\n",
    "\n",
    "Documentation: <a href=\"https://numpy.org/doc/stable/user/basics.broadcasting.html\" target=_blank>broadcasting</a>\n",
    "\n",
    "When operating on two arrays, NumPy compares their shapes element-wise. It starts with the trailing (i.e., rightmost) dimensions and works its way left. Two dimensions are compatible when:\n",
    "\n",
    " - They are equal, or\n",
    " - One of them is 1\n",
    " \n",
    "The examples below show how `B` is successfully broadcasted to `A` according to the rules above.\n",
    " \n",
    "``` python\n",
    "A      (2d array):  5 x 4\n",
    "B      (1d array):      1\n",
    "Result (2d array):  5 x 4\n",
    "\n",
    "A      (2d array):  5 x 4\n",
    "B      (1d array):      4\n",
    "Result (2d array):  5 x 4\n",
    "\n",
    "A      (3d array):  15 x 3 x 5\n",
    "B      (3d array):  15 x 1 x 5\n",
    "Result (3d array):  15 x 3 x 5\n",
    "\n",
    "A      (3d array):  15 x 3 x 5\n",
    "B      (2d array):       3 x 5\n",
    "Result (3d array):  15 x 3 x 5\n",
    "\n",
    "A      (3d array):  15 x 3 x 5\n",
    "B      (2d array):       3 x 1\n",
    "Result (3d array):  15 x 3 x 5\n",
    "```\n",
    "\n",
    "<hr style=\"border:none; height: 4px; background-color:#D3D3D3\" />"
   ]
  },
  {
   "cell_type": "code",
   "execution_count": null,
   "metadata": {
    "collapsed": true,
    "id": "BO7iCn7WHvH0",
    "outputId": "2b60c5d8-1ac8-45e0-9559-26b307ae5711"
   },
   "outputs": [],
   "source": [
    "a = np.array([[1, 2, 3], [4, 5, 6],[7, 8, 9]])\n",
    "b = np.array([0, 1, 0])\n",
    "\n",
    "print('Array \"a\":')\n",
    "array_info(a)\n",
    "print('Array \"b\":')\n",
    "array_info(b)\n",
    "\n",
    "print('Array \"a+b\":')\n",
    "array_info(a + b)  # b is reshaped such that it can be added to a.\n",
    "\n",
    "# b = [0,1,0] is broadcasted to     [[0, 1, 0],\n",
    "#                                    [0, 1, 0],\n",
    "#                                    [0, 1, 0]]  and added to a."
   ]
  },
  {
   "cell_type": "markdown",
   "metadata": {
    "id": "QpgY47AtHvH0"
   },
   "source": [
    "## 2 Linear Algebra\n",
    "\n",
    "In this section, we will take a look at the most commonly used linear algebra operations used in machine learning."
   ]
  },
  {
   "cell_type": "markdown",
   "metadata": {
    "id": "0QzeoEJjHvH0"
   },
   "source": [
    "## 2.1 Transpose\n",
    "\n",
    "<hr style=\"border:none; height: 4px; background-color:#D3D3D3\" />\n",
    "\n",
    "Either syntax below can be used:\n",
    "\n",
    "``` python\n",
    "result = np.transpose(a, axes=None)\n",
    "\n",
    "result = a.transpose(*axes)\n",
    "\n",
    "result = a.T\n",
    "```\n",
    "\n",
    "Returns a view of the NumPy array `a` with axes transposed.\n",
    "\n",
    "Documentation: <a href=\"https://numpy.org/doc/stable/reference/generated/numpy.transpose.html\" target=_blank>np.transpose</a>\n",
    "\n",
    "<hr style=\"border:none; height: 4px; background-color:#D3D3D3\" />\n"
   ]
  },
  {
   "cell_type": "code",
   "execution_count": null,
   "metadata": {
    "collapsed": true,
    "id": "r5go-3TdHvH0",
    "outputId": "22fbd2b4-4978-404f-c1e8-eb858c0cabc9"
   },
   "outputs": [],
   "source": [
    "a = np.random.random((2,3))\n",
    "print('Array \"a\":')\n",
    "array_info(a)\n",
    "\n",
    "print('Transose of \"a\":')\n",
    "a_transpose = a.transpose()  # Or a.T\n",
    "array_info(a_transpose)"
   ]
  },
  {
   "cell_type": "markdown",
   "metadata": {
    "id": "qsKNn9Y6HvH1"
   },
   "source": [
    "### 2.2 Matrix Multiplication\n",
    "We will discuss two ways of performing matrix multiplication.\n",
    "\n",
    "- `np.matmul`\n",
    "- Python `@` operator\n",
    "\n",
    "### <font style=\"color:rgb(50,120,230)\">Using: `matmul`</font>\n",
    "\n",
    "<hr style=\"border:none; height: 4px; background-color:#D3D3D3\" />\n",
    "\n",
    "Using `matmul` is the most common approach for multiplying two matrices using Numpy. Multiplying two matrices requires that the number of columns of the first matrix, `M`, equals the number of rows in the second matrix, `N`, as shown below.\n",
    "\n",
    "``` python\n",
    "   M        N      \n",
    "[p, q] x [q, r] = [p , r]\n",
    "```\n",
    "Documentation: <a href=\"https://docs.scipy.org/doc/numpy/reference/generated/numpy.matmul.html\" target=_blank>np.matmul</a>\n",
    "\n",
    "<hr style=\"border:none; height: 4px; background-color:#D3D3D3\" />"
   ]
  },
  {
   "cell_type": "code",
   "execution_count": null,
   "metadata": {
    "collapsed": true,
    "id": "k7MrCHnDHvH1",
    "outputId": "f925c099-3d12-4b4b-dd4b-cde5e2f799ca"
   },
   "outputs": [],
   "source": [
    "a = np.random.random((3, 4))\n",
    "b = np.random.random((4, 2))\n",
    "\n",
    "print('Array \"a\":')\n",
    "array_info(a)\n",
    "print('Array \"b\"')\n",
    "array_info(b)\n",
    "\n",
    "# Matrix multiplication of a and b.\n",
    "c = np.matmul(a,b) \n",
    "\n",
    "print('matrix multiplication of a and b:')\n",
    "array_info(c)\n",
    "\n",
    "print('{} x {} --> {}'.format(a.shape, b.shape, c.shape)) # dim-1 of a and dim-0 of b has to be \n",
    "                                                          # same for matrix multiplication"
   ]
  },
  {
   "cell_type": "markdown",
   "metadata": {
    "id": "bWkSiPrhHvH1"
   },
   "source": [
    "### <font style=\"color:rgb(50,120,230)\">Using: `@` operator</font>\n",
    "\n",
    "This method of multiplication was introduced in Python 3.5. <a href=\"https://www.python.org/dev/peps/pep-0465/\" target=_blank>See docs</a>."
   ]
  },
  {
   "cell_type": "code",
   "execution_count": null,
   "metadata": {
    "collapsed": true,
    "id": "dEgb2I7hHvH1",
    "outputId": "4ed42015-27fe-416a-e3c8-72295c114bd9"
   },
   "outputs": [],
   "source": [
    "a = np.random.random((3, 4))\n",
    "b = np.random.random((4, 2))\n",
    "\n",
    "print('Array \"a\":')\n",
    "array_info(a)\n",
    "print('Array \"b\"')\n",
    "array_info(b)\n",
    "\n",
    "# Matrix multiplication of a and b.\n",
    "c = a@b \n",
    "array_info(c)"
   ]
  },
  {
   "cell_type": "markdown",
   "metadata": {
    "id": "iIWu52Pn35S0"
   },
   "source": [
    "### 2.3 Matrix Inverse\n",
    "\n",
    "<hr style=\"border:none; height: 4px; background-color:#D3D3D3\" />\n",
    "\n",
    "``` python\n",
    "np.linalg.inv(a)\n",
    "```\n",
    "\n",
    "For a square matrix, `a`, compute the (multiplicative) inverse of a matrix.\n",
    "\n",
    "Documentation: <a href=\"https://numpy.org/doc/stable/reference/generated/numpy.linalg.inv.html?highlight=matrix%20inverse\" target=_blank>np.linalg.inv</a>\n",
    "\n",
    "<hr style=\"border:none; height: 4px; background-color:#D3D3D3\" />\n"
   ]
  },
  {
   "cell_type": "code",
   "execution_count": null,
   "metadata": {
    "collapsed": true,
    "id": "NZaXtR-uHvH2",
    "outputId": "0af84798-7827-4d11-c4b6-ca92d76ff142"
   },
   "outputs": [],
   "source": [
    "A = np.random.random((3,3))\n",
    "print('Array \"A\":')\n",
    "array_info(A)\n",
    "\n",
    "A_inverse = np.linalg.inv(A)\n",
    "print('Inverse of \"A\" (\"A_inverse\"):')\n",
    "array_info(A_inverse)\n",
    "\n",
    "print('\"A x A_inverse = Identity\" should be true:')\n",
    "A_X_A_inverse = np.matmul(A, A_inverse)  # A x A_inverse = I = Identity matrix\n",
    "array_info(A_X_A_inverse)"
   ]
  },
  {
   "cell_type": "markdown",
   "metadata": {
    "id": "dZ8RyI11HvH2"
   },
   "source": [
    "### 2.4 Dot Product\n",
    "\n",
    "The dot product between two euqal length vectors is a scalar defined by the sum of the element-wise product of the two vectors.\n",
    "\n",
    "<hr style=\"border:none; height: 4px; background-color:#D3D3D3\" />\n",
    "\n",
    "``` python\n",
    "np.dot(a, b, out=None)\n",
    "```\n",
    "\n",
    "\n",
    "Documentation: <a href=\"https://numpy.org/doc/stable/reference/generated/numpy.dot.html?highlight=dot%20product\" target=_blank>np.dot</a>\n",
    "\n",
    "<hr style=\"border:none; height: 4px; background-color:#D3D3D3\" />\n"
   ]
  },
  {
   "cell_type": "code",
   "execution_count": null,
   "metadata": {
    "collapsed": true,
    "id": "b1iIv5FaHvH2",
    "outputId": "20e677d1-5e38-4554-d910-7abc564ffe17"
   },
   "outputs": [],
   "source": [
    "a = np.array([1, 2, 3, 4])\n",
    "b = np.array([5, 6, 7, 8])\n",
    "\n",
    "array_info(a)\n",
    "array_info(b)\n",
    "\n",
    "dot_prod = np.dot(a, b) \n",
    "array_info(dot_prod)"
   ]
  },
  {
   "cell_type": "markdown",
   "metadata": {
    "id": "8cjIE8hGHvH3"
   },
   "source": [
    "## 3 Array Statistics"
   ]
  },
  {
   "cell_type": "markdown",
   "metadata": {
    "id": "-HOjs-cVHvH3"
   },
   "source": [
    "### 3.1 Sum"
   ]
  },
  {
   "cell_type": "code",
   "execution_count": null,
   "metadata": {
    "collapsed": true,
    "id": "Qdzq9ul7HvH3",
    "outputId": "9ba2955f-192e-4fd3-ce3a-83b08f1e120e"
   },
   "outputs": [],
   "source": [
    "a = np.array([1, 2, 3, 4, 5])\n",
    "\n",
    "print(a.sum())"
   ]
  },
  {
   "cell_type": "markdown",
   "metadata": {
    "id": "6now4zePHvH3"
   },
   "source": [
    "### 3.2 Sum Along Axis"
   ]
  },
  {
   "cell_type": "code",
   "execution_count": null,
   "metadata": {
    "collapsed": true,
    "id": "ul2TJrxRHvH3",
    "outputId": "c471b67e-4996-4242-d1c0-0198969b8ee7"
   },
   "outputs": [],
   "source": [
    "a = np.array([[1, 2, 3], [4, 5, 6]])\n",
    "array_info(a)\n",
    "print('')\n",
    "\n",
    "print('sum along axis=0: ',a.sum(axis = 0)) # Sum along axis=0 ie: 1+4, 2+5, 3+6\n",
    "print(\"\")\n",
    "print('sum along axis=1: ',a.sum(axis = 1)) # Sum along axis=1 ie: 1+2+3, 4+5+6"
   ]
  },
  {
   "cell_type": "markdown",
   "metadata": {
    "id": "hOCEcGgpHvH4"
   },
   "source": [
    "### 3.3 Minimum and Maximum"
   ]
  },
  {
   "cell_type": "code",
   "execution_count": null,
   "metadata": {
    "collapsed": true,
    "id": "0hqHKLRdHvH4",
    "outputId": "346b971c-36c2-431f-fc44-2e81fd99541f"
   },
   "outputs": [],
   "source": [
    "a = np.array([-1.1, 2, 5, 100])\n",
    "\n",
    "print('Minimum = ', a.min())\n",
    "print('Maximum = ', a.max())"
   ]
  },
  {
   "cell_type": "markdown",
   "metadata": {
    "id": "gfg1O0-5HvH4"
   },
   "source": [
    "### 3.4 Min and Max along Axis"
   ]
  },
  {
   "cell_type": "code",
   "execution_count": null,
   "metadata": {
    "collapsed": true,
    "id": "HTINIBoCHvH4",
    "outputId": "17d210c3-ffe5-45f4-dfaf-e58e112f4cde"
   },
   "outputs": [],
   "source": [
    "a = np.array([[-2, 0, 4], [1, 2, 3]])\n",
    "\n",
    "array_info(a)\n",
    "\n",
    "print('a =\\n',a,'\\n')\n",
    "print('Minimum = ', a.min())\n",
    "print('Maximum = ', a.max())\n",
    "print()\n",
    "print('Minimum along axis 0 = ', a.min(0))\n",
    "print('Maximum along axis 0 = ', a.max(0))\n",
    "print()\n",
    "print('Minimum along axis 1 = ', a.min(1))\n",
    "print('Maximum along axis 1 = ', a.max(1))"
   ]
  },
  {
   "cell_type": "markdown",
   "metadata": {
    "id": "duzWUeVcHvH5"
   },
   "source": [
    "### 3.5 Mean and Standard Deviation"
   ]
  },
  {
   "cell_type": "code",
   "execution_count": null,
   "metadata": {
    "collapsed": true,
    "id": "SMBfODD6HvH5",
    "outputId": "ec39b9de-1aa6-4d8b-b5b8-0352848d7261"
   },
   "outputs": [],
   "source": [
    "# Create some data.\n",
    "data = np.array([1.2, 2.3, 5.0, 3.3, 1.4, 5.6])\n",
    "\n",
    "print('Mean of the array               = {:8.6f}'.format(data.mean()))\n",
    "print('Standard deviation of the array = {:8.6f}'.format(data.std()))"
   ]
  },
  {
   "cell_type": "markdown",
   "metadata": {
    "id": "N0ymt6ICHvH5"
   },
   "source": [
    "### 3.6 Standardizing an Array\n",
    "\n",
    "Normalize the data array to have `mean=0` and `std=1`."
   ]
  },
  {
   "cell_type": "code",
   "execution_count": null,
   "metadata": {
    "collapsed": true,
    "id": "n3x7_N59HvH5",
    "outputId": "230e6257-75cc-479e-8129-573554a83dd0"
   },
   "outputs": [],
   "source": [
    "print('Array              = ', data)\n",
    "print('Mean               = {:8.6f}'.format(data.mean()))\n",
    "print('Standard deviation = {:8.6f}'.format(data.std()))\n",
    "print()\n",
    "\n",
    "standardized_array = (data - data.mean())/data.std()\n",
    "\n",
    "print('Standardized Array = ', standardized_array)\n",
    "print('Mean               = {:8.6f}'.format(standardized_array.mean()))  \n",
    "print('Standard deviation = {:8.6f}'.format(standardized_array.std()))   "
   ]
  },
  {
   "cell_type": "code",
   "execution_count": null,
   "metadata": {
    "collapsed": true,
    "id": "LN9ohY1uHvH6"
   },
   "outputs": [],
   "source": []
  }
 ],
 "metadata": {
  "colab": {
   "name": "week_01_09_Numpy_Refresher_Part_3.ipynb",
   "provenance": []
  },
  "jupytext": {
   "encoding": "# -*- coding: utf-8 -*-",
   "formats": "ipynb,py:light"
  },
  "kernelspec": {
   "display_name": "Python 3.8",
   "language": "python",
   "name": "python38"
  },
  "language_info": {
   "codemirror_mode": {
    "name": "ipython",
    "version": 3
   },
   "file_extension": ".py",
   "mimetype": "text/x-python",
   "name": "python",
   "nbconvert_exporter": "python",
   "pygments_lexer": "ipython3",
   "version": "3.8.7"
  },
  "latex_envs": {
   "LaTeX_envs_menu_present": true,
   "autoclose": false,
   "autocomplete": true,
   "bibliofile": "biblio.bib",
   "cite_by": "apalike",
   "current_citInitial": 1,
   "eqLabelWithNumbers": true,
   "eqNumInitial": 1,
   "hotkeys": {
    "equation": "Ctrl-E",
    "itemize": "Ctrl-I"
   },
   "labels_anchors": false,
   "latex_user_defs": false,
   "report_style_numbering": false,
   "user_envs_cfg": false
  },
  "toc": {
   "base_numbering": 1,
   "nav_menu": [],
   "number_sections": true,
   "sideBar": true,
   "skip_h1_title": false,
   "title_cell": "Table of Contents",
   "title_sidebar": "Contents",
   "toc_cell": false,
   "toc_position": [],
   "toc_section_display": true,
   "toc_window_display": false
  },
  "varInspector": {
   "cols": {
    "lenName": 16,
    "lenType": 16,
    "lenVar": 40
   },
   "kernels_config": {
    "python": {
     "delete_cmd_postfix": "",
     "delete_cmd_prefix": "del ",
     "library": "var_list.py",
     "varRefreshCmd": "print(var_dic_list())"
    },
    "r": {
     "delete_cmd_postfix": ") ",
     "delete_cmd_prefix": "rm(",
     "library": "var_list.r",
     "varRefreshCmd": "cat(var_dic_list()) "
    }
   },
   "types_to_exclude": [
    "module",
    "function",
    "builtin_function_or_method",
    "instance",
    "_Feature"
   ],
   "window_display": false
  }
 },
 "nbformat": 4,
 "nbformat_minor": 1
}
